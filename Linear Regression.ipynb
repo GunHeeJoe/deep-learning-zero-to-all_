{
 "cells": [
  {
   "attachments": {},
   "cell_type": "markdown",
   "metadata": {},
   "source": [
    "# Linear Regression\n",
    "\n",
    "### 1.opimizer를 이용해서 경사하강법+손실함수로 적절한 W,b찾기\n",
    "### 2.손실함수가 최소가 되는 방향으로 직접 W를 조정해 나가면서 W찾기 "
   ]
  },
  {
   "attachments": {},
   "cell_type": "markdown",
   "metadata": {},
   "source": [
    "1. opimizer를 이용해서 경사하강법+손실함수로 적절한 W,b찾기"
   ]
  },
  {
   "cell_type": "code",
   "execution_count": 5,
   "metadata": {},
   "outputs": [],
   "source": [
    "import torch\n",
    "import torch.nn as nn\n",
    "import torch.nn.functional as F\n",
    "import torch.optim as optim"
   ]
  },
  {
   "cell_type": "code",
   "execution_count": 6,
   "metadata": {},
   "outputs": [
    {
     "data": {
      "text/plain": [
       "<torch._C.Generator at 0x22e205a0650>"
      ]
     },
     "execution_count": 6,
     "metadata": {},
     "output_type": "execute_result"
    }
   ],
   "source": [
    "torch.manual_seed(1)"
   ]
  },
  {
   "cell_type": "code",
   "execution_count": 7,
   "metadata": {},
   "outputs": [],
   "source": [
    "x_train = torch.FloatTensor([[1], [2], [3]])\n",
    "y_train = torch.FloatTensor([[1], [2], [3]])"
   ]
  },
  {
   "cell_type": "code",
   "execution_count": 8,
   "metadata": {},
   "outputs": [
    {
     "data": {
      "text/plain": [
       "(tensor([[1.],\n",
       "         [2.],\n",
       "         [3.]]),\n",
       " tensor([[1.],\n",
       "         [2.],\n",
       "         [3.]]))"
      ]
     },
     "execution_count": 8,
     "metadata": {},
     "output_type": "execute_result"
    }
   ],
   "source": [
    "x_train, y_train"
   ]
  },
  {
   "cell_type": "code",
   "execution_count": 9,
   "metadata": {},
   "outputs": [
    {
     "data": {
      "text/plain": [
       "(tensor([0.], requires_grad=True), tensor([0.], requires_grad=True))"
      ]
     },
     "execution_count": 9,
     "metadata": {},
     "output_type": "execute_result"
    }
   ],
   "source": [
    "#Linear Regresson은 loss가 최소가 되도록 x-y에 가장 잘 맞는 하나의 직선을 찾는 알고리즘이므로\n",
    "#초기 W,b값을 설정해줘야함\n",
    "#requires_grad=True : W,b변수는 학습을 통해 계속 변경된다는 의미\n",
    "W = torch.zeros(1, requires_grad=True)\n",
    "b = torch.zeros(1, requires_grad=True)\n",
    "W,b"
   ]
  },
  {
   "cell_type": "code",
   "execution_count": 10,
   "metadata": {},
   "outputs": [
    {
     "data": {
      "text/plain": [
       "tensor([[0.],\n",
       "        [0.],\n",
       "        [0.]], grad_fn=<AddBackward0>)"
      ]
     },
     "execution_count": 10,
     "metadata": {},
     "output_type": "execute_result"
    }
   ],
   "source": [
    "#hypothesis가 우리가 선정한 회귀선(가설)\n",
    "#x_train에 대한 예측값\n",
    "hypothesis = x_train * W + b\n",
    "hypothesis"
   ]
  },
  {
   "cell_type": "code",
   "execution_count": 11,
   "metadata": {},
   "outputs": [
    {
     "data": {
      "text/plain": [
       "tensor([[1.],\n",
       "        [2.],\n",
       "        [3.]])"
      ]
     },
     "execution_count": 11,
     "metadata": {},
     "output_type": "execute_result"
    }
   ],
   "source": [
    "#실제값\n",
    "y_train"
   ]
  },
  {
   "cell_type": "code",
   "execution_count": 12,
   "metadata": {},
   "outputs": [
    {
     "data": {
      "text/plain": [
       "tensor([[-1.],\n",
       "        [-2.],\n",
       "        [-3.]], grad_fn=<SubBackward0>)"
      ]
     },
     "execution_count": 12,
     "metadata": {},
     "output_type": "execute_result"
    }
   ],
   "source": [
    "hypothesis-y_train"
   ]
  },
  {
   "cell_type": "code",
   "execution_count": 13,
   "metadata": {},
   "outputs": [
    {
     "data": {
      "text/plain": [
       "tensor([[1.],\n",
       "        [4.],\n",
       "        [9.]], grad_fn=<PowBackward0>)"
      ]
     },
     "execution_count": 13,
     "metadata": {},
     "output_type": "execute_result"
    }
   ],
   "source": [
    "(hypothesis-y_train)**2"
   ]
  },
  {
   "cell_type": "code",
   "execution_count": 14,
   "metadata": {},
   "outputs": [
    {
     "data": {
      "text/plain": [
       "tensor(4.6667, grad_fn=<MeanBackward0>)"
      ]
     },
     "execution_count": 14,
     "metadata": {},
     "output_type": "execute_result"
    }
   ],
   "source": [
    "#이 값이 MSE(Mean SQuared Error) 해당 손실값loss가 최소가 되도록 회귀선을 찾는작업\n",
    "cost = torch.mean((hypothesis-y_train)**2)\n",
    "cost"
   ]
  },
  {
   "cell_type": "code",
   "execution_count": 15,
   "metadata": {},
   "outputs": [
    {
     "data": {
      "text/plain": [
       "SGD (\n",
       "Parameter Group 0\n",
       "    dampening: 0\n",
       "    differentiable: False\n",
       "    foreach: None\n",
       "    lr: 0.01\n",
       "    maximize: False\n",
       "    momentum: 0\n",
       "    nesterov: False\n",
       "    weight_decay: 0\n",
       ")"
      ]
     },
     "execution_count": 15,
     "metadata": {},
     "output_type": "execute_result"
    }
   ],
   "source": [
    "#SGD(확률적 경사하강법을 이용해서 최적의 W,b를 찾는 작업)\n",
    "optimizer = optim.SGD([W,b], lr=0.01)\n",
    "optimizer"
   ]
  },
  {
   "cell_type": "code",
   "execution_count": 16,
   "metadata": {},
   "outputs": [],
   "source": [
    "#SGD를 통해 얻은 기울기를 0으로 초기화한다\n",
    "#매 epoch마다 기울기를 0으로 초기화해줘야 되는 이유 => 미분을 통해 얻은 기울기(gradient)는 이전에 계산된 기울기 값에 누적시키기 때문에 \n",
    "optimizer.zero_grad()"
   ]
  },
  {
   "cell_type": "code",
   "execution_count": 17,
   "metadata": {},
   "outputs": [
    {
     "name": "stdout",
     "output_type": "stream",
     "text": [
      "W로 미분한값 = gradient : tensor(2.)\n",
      "W로 미분한값 = gradient : tensor(4.)\n",
      "W로 미분한값 = gradient : tensor(6.)\n",
      "W로 미분한값 = gradient : tensor(8.)\n",
      "W로 미분한값 = gradient : tensor(10.)\n",
      "W로 미분한값 = gradient : tensor(12.)\n",
      "W로 미분한값 = gradient : tensor(14.)\n",
      "W로 미분한값 = gradient : tensor(16.)\n",
      "W로 미분한값 = gradient : tensor(18.)\n",
      "W로 미분한값 = gradient : tensor(20.)\n",
      "W로 미분한값 = gradient : tensor(22.)\n",
      "W로 미분한값 = gradient : tensor(24.)\n",
      "W로 미분한값 = gradient : tensor(26.)\n",
      "W로 미분한값 = gradient : tensor(28.)\n",
      "W로 미분한값 = gradient : tensor(30.)\n",
      "W로 미분한값 = gradient : tensor(32.)\n",
      "W로 미분한값 = gradient : tensor(34.)\n",
      "W로 미분한값 = gradient : tensor(36.)\n",
      "W로 미분한값 = gradient : tensor(38.)\n",
      "W로 미분한값 = gradient : tensor(40.)\n"
     ]
    }
   ],
   "source": [
    "ex_W = torch.tensor(2.0, requires_grad=True)\n",
    "\n",
    "ex_epoch = 20\n",
    "for epoch in range(ex_epoch):\n",
    "    z = 2*ex_W\n",
    "\n",
    "    z.backward()\n",
    "\n",
    "    #미분값인 gradient가 누적되므로 계속 0으로 초기화해줘야함 => 초기화 안하면, 0에 절대 가까워지지 않음\n",
    "    print(\"W로 미분한값 = gradient :\", ex_W.grad)"
   ]
  },
  {
   "cell_type": "code",
   "execution_count": 18,
   "metadata": {},
   "outputs": [],
   "source": [
    "#W,b에 대한 경사(gradient)를 계산홤\n",
    "#경사하강법(GD)은 최적화 알고리즘으로 비용함수(cost:여기선 MSE)를 최소화하기 위해 파라미터를 조정\n",
    "#cost를 감소하는 방향으로 진행하다보면 Gradient가 0이 되는 최솟값에 도달\n",
    "cost.backward()"
   ]
  },
  {
   "cell_type": "code",
   "execution_count": 19,
   "metadata": {},
   "outputs": [],
   "source": [
    "#W.b를 업데이트\n",
    "optimizer.step()"
   ]
  },
  {
   "cell_type": "code",
   "execution_count": 20,
   "metadata": {},
   "outputs": [
    {
     "name": "stdout",
     "output_type": "stream",
     "text": [
      "Epoch    0/1000 W: 0.093, b: 0.040 Cost: 4.666667\n",
      "tensor([-9.3333])\n",
      "Epoch  100/1000 W: 0.873, b: 0.289 Cost: 0.012043\n",
      "tensor([-0.0307])\n",
      "Epoch  200/1000 W: 0.900, b: 0.227 Cost: 0.007442\n",
      "tensor([-0.0241])\n",
      "Epoch  300/1000 W: 0.921, b: 0.179 Cost: 0.004598\n",
      "tensor([-0.0189])\n",
      "Epoch  400/1000 W: 0.938, b: 0.140 Cost: 0.002842\n",
      "tensor([-0.0149])\n",
      "Epoch  500/1000 W: 0.951, b: 0.110 Cost: 0.001756\n",
      "tensor([-0.0117])\n",
      "Epoch  600/1000 W: 0.962, b: 0.087 Cost: 0.001085\n",
      "tensor([-0.0092])\n",
      "Epoch  700/1000 W: 0.970, b: 0.068 Cost: 0.000670\n",
      "tensor([-0.0072])\n",
      "Epoch  800/1000 W: 0.976, b: 0.054 Cost: 0.000414\n",
      "tensor([-0.0057])\n",
      "Epoch  900/1000 W: 0.981, b: 0.042 Cost: 0.000256\n",
      "tensor([-0.0045])\n",
      "Epoch 1000/1000 W: 0.985, b: 0.033 Cost: 0.000158\n",
      "tensor([-0.0035])\n"
     ]
    }
   ],
   "source": [
    "x_train = torch.FloatTensor([ [1] , [2] , [3]])\n",
    "y_train = torch.FloatTensor([ [1] , [2] , [3]])\n",
    "\n",
    "W = torch.zeros(1, requires_grad=True)\n",
    "b = torch.zeros(1, requires_grad=True)\n",
    "\n",
    "optimizer = optim.SGD([W,b] , lr=0.01)\n",
    "\n",
    "nb_epochs = 1000\n",
    "\n",
    "for epoch in range(nb_epochs+1):\n",
    "    hypothesis = x_train * W + b\n",
    "\n",
    "    cost = torch.mean((hypothesis-y_train)**2)\n",
    "    \n",
    "    optimizer.zero_grad()\n",
    "\n",
    "    cost.backward()\n",
    "\n",
    "    optimizer.step()\n",
    "\n",
    "    if(epoch%100==0):\n",
    "       print('Epoch {:4d}/{} W: {:.3f}, b: {:.3f} Cost: {:.6f}'.format(epoch, nb_epochs, W.item(), b.item(), cost.item()))\n",
    "       print(W.grad)"
   ]
  },
  {
   "attachments": {},
   "cell_type": "markdown",
   "metadata": {},
   "source": [
    "2. optimizer방식을 Linear Regression모델에 적용하기"
   ]
  },
  {
   "cell_type": "code",
   "execution_count": 21,
   "metadata": {},
   "outputs": [],
   "source": [
    "x_train = torch.FloatTensor([[1], [2], [3]])\n",
    "y_train = torch.FloatTensor([[1], [2], [3]])"
   ]
  },
  {
   "cell_type": "code",
   "execution_count": 22,
   "metadata": {},
   "outputs": [],
   "source": [
    "#모델을 정의함\n",
    "#init\n",
    "class LinearRegressionModel(nn.Module):\n",
    "    def __init__(self):\n",
    "        super().__init__()\n",
    "        self.linear = nn.Linear(1,1)\n",
    "\n",
    "    def forward(self, x):\n",
    "        return self.linear(x)"
   ]
  },
  {
   "cell_type": "code",
   "execution_count": 23,
   "metadata": {},
   "outputs": [
    {
     "data": {
      "text/plain": [
       "LinearRegressionModel(\n",
       "  (linear): Linear(in_features=1, out_features=1, bias=True)\n",
       ")"
      ]
     },
     "execution_count": 23,
     "metadata": {},
     "output_type": "execute_result"
    }
   ],
   "source": [
    "model = LinearRegressionModel()\n",
    "model"
   ]
  },
  {
   "cell_type": "code",
   "execution_count": 24,
   "metadata": {},
   "outputs": [
    {
     "data": {
      "text/plain": [
       "tensor([[0.0739],\n",
       "        [0.5891],\n",
       "        [1.1044]], grad_fn=<AddmmBackward0>)"
      ]
     },
     "execution_count": 24,
     "metadata": {},
     "output_type": "execute_result"
    }
   ],
   "source": [
    "hypothesis = model(x_train)\n",
    "hypothesis"
   ]
  },
  {
   "cell_type": "code",
   "execution_count": 25,
   "metadata": {},
   "outputs": [
    {
     "data": {
      "text/plain": [
       "tensor(2.1471, grad_fn=<MseLossBackward0>)"
      ]
     },
     "execution_count": 25,
     "metadata": {},
     "output_type": "execute_result"
    }
   ],
   "source": [
    "cost = F.mse_loss(hypothesis, y_train)\n",
    "cost"
   ]
  },
  {
   "cell_type": "code",
   "execution_count": 26,
   "metadata": {},
   "outputs": [
    {
     "data": {
      "text/plain": [
       "[Parameter containing:\n",
       " tensor([[0.5153]], requires_grad=True),\n",
       " Parameter containing:\n",
       " tensor([-0.4414], requires_grad=True)]"
      ]
     },
     "execution_count": 26,
     "metadata": {},
     "output_type": "execute_result"
    }
   ],
   "source": [
    "list(model.parameters())"
   ]
  },
  {
   "cell_type": "code",
   "execution_count": 27,
   "metadata": {},
   "outputs": [
    {
     "data": {
      "text/plain": [
       "SGD (\n",
       "Parameter Group 0\n",
       "    dampening: 0\n",
       "    differentiable: False\n",
       "    foreach: None\n",
       "    lr: 0.01\n",
       "    maximize: False\n",
       "    momentum: 0\n",
       "    nesterov: False\n",
       "    weight_decay: 0\n",
       ")"
      ]
     },
     "execution_count": 27,
     "metadata": {},
     "output_type": "execute_result"
    }
   ],
   "source": [
    "optimizer = optim.SGD(model.parameters(), lr=0.01)\n",
    "optimizer"
   ]
  },
  {
   "cell_type": "code",
   "execution_count": 28,
   "metadata": {},
   "outputs": [],
   "source": [
    "optimizer.zero_grad()\n",
    "cost.backward()\n",
    "optimizer.step()"
   ]
  },
  {
   "cell_type": "code",
   "execution_count": 29,
   "metadata": {},
   "outputs": [
    {
     "name": "stdout",
     "output_type": "stream",
     "text": [
      "Epoch    0/1000 W: -0.101, b: 0.508 Cost: 4.630286\n",
      "Epoch  100/1000 W: 0.713, b: 0.653 Cost: 0.061555\n",
      "Epoch  200/1000 W: 0.774, b: 0.514 Cost: 0.038037\n",
      "Epoch  300/1000 W: 0.822, b: 0.404 Cost: 0.023505\n",
      "Epoch  400/1000 W: 0.860, b: 0.317 Cost: 0.014525\n",
      "Epoch  500/1000 W: 0.890, b: 0.250 Cost: 0.008975\n",
      "Epoch  600/1000 W: 0.914, b: 0.196 Cost: 0.005546\n",
      "Epoch  700/1000 W: 0.932, b: 0.154 Cost: 0.003427\n",
      "Epoch  800/1000 W: 0.947, b: 0.121 Cost: 0.002118\n",
      "Epoch  900/1000 W: 0.958, b: 0.095 Cost: 0.001309\n",
      "Epoch 1000/1000 W: 0.967, b: 0.075 Cost: 0.000809\n"
     ]
    }
   ],
   "source": [
    "x_train = torch.FloatTensor([[1], [2], [3]])\n",
    "y_train = torch.FloatTensor([[1], [2], [3]])\n",
    "\n",
    "model = LinearRegressionModel()\n",
    "\n",
    "optimizer = optim.SGD(model.parameters(), lr=0.01)\n",
    "\n",
    "for epoch in range(nb_epochs+1):\n",
    "\n",
    "    prediction = model(x_train)\n",
    "\n",
    "    cost = F.mse_loss(prediction, y_train)\n",
    "\n",
    "    optimizer.zero_grad()\n",
    "    cost.backward()\n",
    "    optimizer.step()\n",
    "\n",
    "    if epoch%100 == 0:\n",
    "        params = list(model.parameters())\n",
    "       \n",
    "        W = params[0].item()\n",
    "        b = params[1].item()\n",
    "\n",
    "        print('Epoch {:4d}/{} W: {:.3f}, b: {:.3f} Cost: {:.6f}'.format(epoch, nb_epochs, W, b, cost.item()))"
   ]
  },
  {
   "attachments": {},
   "cell_type": "markdown",
   "metadata": {},
   "source": [
    "2.손실함수가 최소가 되는 방향으로 직접 W를 조정해 나가면서 W찾기 "
   ]
  },
  {
   "cell_type": "code",
   "execution_count": 33,
   "metadata": {},
   "outputs": [],
   "source": [
    "import matplotlib.pyplot as plt\n",
    "import numpy as np\n",
    "import torch \n",
    "import torch.nn as nn\n",
    "import torch.nn.functional as F\n",
    "import torch.optim as optim"
   ]
  },
  {
   "cell_type": "code",
   "execution_count": 34,
   "metadata": {},
   "outputs": [
    {
     "data": {
      "text/plain": [
       "<torch._C.Generator at 0x22e205a0650>"
      ]
     },
     "execution_count": 34,
     "metadata": {},
     "output_type": "execute_result"
    }
   ],
   "source": [
    "torch.manual_seed(1)"
   ]
  },
  {
   "cell_type": "code",
   "execution_count": 36,
   "metadata": {},
   "outputs": [
    {
     "data": {
      "text/plain": [
       "[<matplotlib.lines.Line2D at 0x22e34bcff10>]"
      ]
     },
     "execution_count": 36,
     "metadata": {},
     "output_type": "execute_result"
    },
    {
     "data": {
      "image/png": "[encoded data removed]",
      "text/plain": [
       "<Figure size 640x480 with 1 Axes>"
      ]
     },
     "metadata": {},
     "output_type": "display_data"
    }
   ],
   "source": [
    "#주어진 x-y데이터로 우리가 찾고자 하는 기울기W=1\n",
    "x_train = torch.FloatTensor([ [1] , [2] , [3] ])\n",
    "y_train = torch.FloatTensor([ [1] , [2] , [3] ])\n",
    "\n",
    "plt.scatter(x_train,y_train)\n",
    "xs = np.linspace(1,3,1000)\n",
    "plt.plot(xs,xs)"
   ]
  },
  {
   "cell_type": "code",
   "execution_count": 41,
   "metadata": {},
   "outputs": [],
   "source": [
    "#가중치를 -5,-4,..0,1,2,3,4,...등 다양한 가중치를 설정했을 때\n",
    "#이에 해당하는 예측값(hypothesis)가 나옴\n",
    "#이 때 손실함수(MSE)가 나오는데, 해당 cost(MSE)는 어떤 형태를 갖는지 파악함\n",
    "W_i = np.linspace(-5,7,1000)\n",
    "\n",
    "cost_i = []\n",
    "\n",
    "for W in W_i:\n",
    "    hypothesis = W*x_train\n",
    "    cost = torch.mean((hypothesis-y_train)**2)\n",
    "    cost_i.append(cost)"
   ]
  },
  {
   "cell_type": "code",
   "execution_count": 44,
   "metadata": {},
   "outputs": [
    {
     "data": {
      "image/png": "[encoded data removed]",
      "text/plain": [
       "<Figure size 640x480 with 1 Axes>"
      ]
     },
     "metadata": {},
     "output_type": "display_data"
    }
   ],
   "source": [
    "#W=1에 가까울수록 cost가 작아짐 \n",
    "#W=1에 가까울수록 gradient=0이 됨 => cost는 x**2형태의 아래로 볼록한 이차함수이므로 \n",
    "#미분했을 때 gradient가 0이 되는 cost가 최소가 됨 => 해당 W는 우리가 찾고자 하는 기울기(W)\n",
    "plt.plot(W_i,cost_i)\n",
    "plt.xlabel(\"W\")\n",
    "plt.ylabel(\"Cost\")\n",
    "plt.show()"
   ]
  },
  {
   "cell_type": "code",
   "execution_count": 49,
   "metadata": {},
   "outputs": [
    {
     "name": "stdout",
     "output_type": "stream",
     "text": [
      "Epoch    0/1000 W: 0.000, Cost: 4.666667\n",
      "Epoch    1/1000 W: 1.400, Cost: 0.746666\n",
      "Epoch    2/1000 W: 0.840, Cost: 0.119467\n",
      "Epoch    3/1000 W: 1.064, Cost: 0.019115\n",
      "Epoch    4/1000 W: 0.974, Cost: 0.003058\n",
      "Epoch    5/1000 W: 1.010, Cost: 0.000489\n",
      "Epoch    6/1000 W: 0.996, Cost: 0.000078\n",
      "Epoch    7/1000 W: 1.002, Cost: 0.000013\n",
      "Epoch    8/1000 W: 0.999, Cost: 0.000002\n",
      "Epoch    9/1000 W: 1.000, Cost: 0.000000\n",
      "Epoch   10/1000 W: 1.000, Cost: 0.000000\n"
     ]
    }
   ],
   "source": [
    "#경사하강법 원리를 이용해서 직접 W를 수정해나가는 작업\n",
    "W = torch.zeros(1)\n",
    "\n",
    "nb_epoch = 10\n",
    "lr = 0.1\n",
    "for epoch in range(nb_epoch+1):\n",
    "    hypothesis = x_train*W\n",
    "\n",
    "    cost = torch.mean((hypothesis-y_train)**2)\n",
    "\n",
    "    #cost(MSE)를 W에 대해서 미분하면, x_train이 속미분으로 밖에서 한번 더 곱해지는 형태\n",
    "    gradient = torch.sum((W*x_train-y_train)*x_train)\n",
    "\n",
    "    print('Epoch {:4d}/{} W: {:.3f}, Cost: {:.6f}'.format(epoch, nb_epochs, W.item(), cost.item()))\n",
    "\n",
    "    W = W - lr * gradient"
   ]
  },
  {
   "cell_type": "code",
   "execution_count": 50,
   "metadata": {},
   "outputs": [
    {
     "name": "stdout",
     "output_type": "stream",
     "text": [
      "Epoch    0/1000 W: 0.000, Cost: 4.666667\n",
      "Epoch    1/1000 W: 1.400, Cost: 0.746667\n",
      "Epoch    2/1000 W: 0.840, Cost: 0.119467\n",
      "Epoch    3/1000 W: 1.064, Cost: 0.019115\n",
      "Epoch    4/1000 W: 0.974, Cost: 0.003058\n",
      "Epoch    5/1000 W: 1.010, Cost: 0.000489\n",
      "Epoch    6/1000 W: 0.996, Cost: 0.000078\n",
      "Epoch    7/1000 W: 1.002, Cost: 0.000013\n",
      "Epoch    8/1000 W: 0.999, Cost: 0.000002\n",
      "Epoch    9/1000 W: 1.000, Cost: 0.000000\n",
      "Epoch   10/1000 W: 1.000, Cost: 0.000000\n"
     ]
    }
   ],
   "source": [
    "#경사하강법의 원리를 라이브러리에 적용해서 W를 수정해나가는 작업\n",
    "W = torch.zeros(1, requires_grad=True)\n",
    "\n",
    "optimizer = optim.SGD([W], lr=0.15)\n",
    "\n",
    "for epoch in range(nb_epoch+1):\n",
    "    hypothesis = x_train*W\n",
    "\n",
    "    cost = torch.mean((hypothesis-y_train)**2)\n",
    "\n",
    "    print('Epoch {:4d}/{} W: {:.3f}, Cost: {:.6f}'.format(epoch, nb_epochs, W.item(), cost.item()))\n",
    "\n",
    "    optimizer.zero_grad()\n",
    "    cost.backward()\n",
    "    optimizer.step()"
   ]
  }
 ],
 "metadata": {
  "kernelspec": {
   "display_name": "Python 3",
   "language": "python",
   "name": "python3"
  },
  "language_info": {
   "codemirror_mode": {
    "name": "ipython",
    "version": 3
   },
   "file_extension": ".py",
   "mimetype": "text/x-python",
   "name": "python",
   "nbconvert_exporter": "python",
   "pygments_lexer": "ipython3",
   "version": "3.10.9 (tags/v3.10.9:1dd9be6, Dec  6 2022, 20:01:21) [MSC v.1934 64 bit (AMD64)]"
  },
  "orig_nbformat": 4,
  "vscode": {
   "interpreter": {
    "hash": "95f1ed8339fc15ac7f89ecef91cfc88a009aaf2bb1573f871691d038972c2dcc"
   }
  }
 },
 "nbformat": 4,
 "nbformat_minor": 2
}
