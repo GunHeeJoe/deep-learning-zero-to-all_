{
 "cells": [
  {
   "attachments": {},
   "cell_type": "markdown",
   "metadata": {},
   "source": [
    "# 5. Logistic Classification\n",
    "\n",
    "$H(x) = \\frac{1}{1+e^-W^Tx} 편향이 존재안하면\\\\$\n",
    "$H(x) = \\frac{1}{1+e^-(W^Tx+b)} 편향이 존재하면\\\\$\n",
    "x : m개의 데이터 x d차원 feature가 존재할 때 $\\\\$\n",
    "W : d x 1 : 각 d차원의 feature마다 가중치W가 존재함 W가 각 feature마다 있다고 (1,d)가 아니라 행렬곱을 위해 (d,1)로 표현!$\\\\$\n",
    "우리는 각 m개의 데이터마다 0/1로 binary classification를 수행할 거임 => |x*$W| = (m,d) X (d,1) = (m,1)의 결과가 나옴$\\\\$\n",
    "$\\\\W^Tx$ : (m,1)의 matrix가 나오는데, 이를 시그모이드 함수 $\\frac{1}{1+e^-x}$에 적용시키면 [0,1]사이의 확률값이 나옴 = P(x=1) = 1-P(x=0)"
   ]
  },
  {
   "attachments": {},
   "cell_type": "markdown",
   "metadata": {},
   "source": [
    "-오즈(odds) $\\\\$\n",
    "odds = $\\frac{p}{1-p}$ // 성공확률p가 실패확률1-p보다 몇 배 높은가 [0,$\\displaystyle\\infin$]$\\\\$\n",
    "\n",
    "-로짓 변환(오즈에 로그를 취한 함수)$\\\\$\n",
    "logit(p) = $log\\frac{p}{1-p}$ // [-$\\displaystyle\\infin$,$\\displaystyle\\infin$] $\\\\$\n",
    "\n",
    "-로지스틱 함수($\\frac{p}{1-p}$ = $e^a$을 치환해서 계산)$\\\\$\n",
    "$H(x) = \\frac{1}{1+e^-x}$ // [0,1]사이의 값이 주어지므로 종속변수y<0.5이면 0으로 y>0.5이면 1로 판단한다\n"
   ]
  },
  {
   "attachments": {},
   "cell_type": "markdown",
   "metadata": {},
   "source": [
    "### 그렇다면 손실함수는 어떻게 계산되는것인가\n",
    "-우리가 가중치W를 손실함수가 적은방향으로 찾는데, y=1에 대해서는 높은 확률로 추정하고 y=0에 대해서는 낮은 확률로 추정하는 모델의 W를 찾는다\n",
    "그러기 위해서는 y=1일 때, y=0일 때 두가지를 나눠서 손실함수를 계산한다 $\\\\$\n",
    "c(W) = -log(p)   $\\quad$ // y=1일 때, 그래프를 보시다시피 h가 1에 가까울수록(정답이니까) cost가 낮아지고, h가 0에 가까울수록(정답이랑 멀어짐) cost가 높아짐$\\\\$\n",
    "       $\\quad\\quad\\;\\;\\;$-log(1-p) // y=0일 때, 그래프를 보시다시피 h가 1에 가까울수록(정답이랑 멀어짐) cost가 높아지고, h가 0에 가까울수록(정답이니까) cost가 낮아짐\n",
    "\n",
    "$\\\\\\\\$\n",
    "이렇게 y=0 or 1일 때 나눠서 손실함수 계산한것을 합치면 $\\\\$\n",
    "C(W) = $-\\frac{1}{m}\\sum{ylog(H(x)) + (1-y)(log(1-H(x)))}$ $\\\\$\n",
    "y=1일 때는 -log(H(x))만 손실함수로 표현하므로 오른쪽것을 제거하고 $\\\\$\n",
    "y=0일 때는 (1-y)(log(1-H(x)))만 손실함수로 표현하므로 왼쪽것을 제거함"
   ]
  },
  {
   "cell_type": "code",
   "execution_count": 1,
   "metadata": {},
   "outputs": [
    {
     "name": "stderr",
     "output_type": "stream",
     "text": [
      "C:\\Users\\GunHee\\AppData\\Local\\Temp\\ipykernel_12796\\1431336881.py:5: RuntimeWarning: divide by zero encountered in log\n",
      "  c1 = -np.log(h1)\n"
     ]
    },
    {
     "data": {
      "image/png": "[encoded data removed]",
      "text/plain": [
       "<Figure size 640x480 with 1 Axes>"
      ]
     },
     "metadata": {},
     "output_type": "display_data"
    }
   ],
   "source": [
    "import matplotlib.pyplot as plt\n",
    "import numpy as np\n",
    "\n",
    "h1 = np.arange(0,1,0.001)\n",
    "c1 = -np.log(h1)\n",
    "plt.plot(h1,c1)\n",
    "\n",
    "h2 = np.arange(0,1,0.001)\n",
    "c2 = -np.log(1-h2)\n",
    "plt.plot(h2,c2)\n",
    "\n",
    "plt.xlabel(\"h(x)\")\n",
    "plt.ylabel(\"cost\")\n",
    "\n",
    "plt.legend([\"-logh\",\"-log(1-h)\"])\n",
    "plt.show()"
   ]
  },
  {
   "attachments": {},
   "cell_type": "markdown",
   "metadata": {},
   "source": [
    "### 실제로 W를 수정하는 작업\n",
    "\n",
    "W = W - lr*$\\frac{d}{dW}cost(W)$"
   ]
  },
  {
   "cell_type": "code",
   "execution_count": 2,
   "metadata": {},
   "outputs": [
    {
     "data": {
      "text/plain": [
       "<torch._C.Generator at 0x241268e4890>"
      ]
     },
     "execution_count": 2,
     "metadata": {},
     "output_type": "execute_result"
    }
   ],
   "source": [
    "import torch \n",
    "import torch.nn as nn\n",
    "import torch.nn.functional as F\n",
    "import torch.optim as optim\n",
    "\n",
    "torch.manual_seed(1)"
   ]
  },
  {
   "attachments": {},
   "cell_type": "markdown",
   "metadata": {},
   "source": [
    "Logistic Regression를 계산하는 작업 $\\\\$\n",
    "Hypothesis = $\\frac{1}{1+e^-W^Tx}$"
   ]
  },
  {
   "cell_type": "code",
   "execution_count": 3,
   "metadata": {},
   "outputs": [
    {
     "data": {
      "text/plain": [
       "(torch.Size([6, 2]), torch.Size([6, 1]))"
      ]
     },
     "execution_count": 3,
     "metadata": {},
     "output_type": "execute_result"
    }
   ],
   "source": [
    "#6x2 6개의 데이터 2개의 feature가 있음 => 0or1로 분류해준 6개의 label\n",
    "x_train = torch.FloatTensor([ [1,2], [2,3] , [3,1] , [4,3] , [5,3] , [6,2] ])\n",
    "y_train = torch.FloatTensor([ [0] , [0] , [0] , [1] , [1] , [1] ])\n",
    "x_train.shape, y_train.shape"
   ]
  },
  {
   "cell_type": "code",
   "execution_count": 4,
   "metadata": {},
   "outputs": [
    {
     "data": {
      "text/plain": [
       "tensor([2.7183])"
      ]
     },
     "execution_count": 4,
     "metadata": {},
     "output_type": "execute_result"
    }
   ],
   "source": [
    "torch.exp(torch.FloatTensor([1]))"
   ]
  },
  {
   "cell_type": "code",
   "execution_count": 5,
   "metadata": {},
   "outputs": [],
   "source": [
    "#각 feature마다 가중치를 0으로 초기화\n",
    "W = torch.zeros((2,1) , requires_grad=True)\n",
    "b = torch.zeros(1, requires_grad=True)"
   ]
  },
  {
   "cell_type": "code",
   "execution_count": 6,
   "metadata": {},
   "outputs": [
    {
     "data": {
      "text/plain": [
       "tensor([[0.5000],\n",
       "        [0.5000],\n",
       "        [0.5000],\n",
       "        [0.5000],\n",
       "        [0.5000],\n",
       "        [0.5000]], grad_fn=<MulBackward0>)"
      ]
     },
     "execution_count": 6,
     "metadata": {},
     "output_type": "execute_result"
    }
   ],
   "source": [
    "#초기 W,b가 0이므로 예측값모두 0.5로 나옴\\\n",
    "hypothesis = 1 / (1 + torch.exp(-(x_train.matmul(W)+b)))\n",
    "hypothesis"
   ]
  },
  {
   "cell_type": "code",
   "execution_count": 7,
   "metadata": {},
   "outputs": [
    {
     "data": {
      "text/plain": [
       "tensor([[0.5000],\n",
       "        [0.5000],\n",
       "        [0.5000],\n",
       "        [0.5000],\n",
       "        [0.5000],\n",
       "        [0.5000]], grad_fn=<SigmoidBackward0>)"
      ]
     },
     "execution_count": 7,
     "metadata": {},
     "output_type": "execute_result"
    }
   ],
   "source": [
    "#sigmoid드 함수를 적용하면 1/1+e^-x에 x에 Wx+b를 대입해서 계산해줌\n",
    "torch.sigmoid(x_train.matmul(W)+b)"
   ]
  },
  {
   "attachments": {},
   "cell_type": "markdown",
   "metadata": {},
   "source": [
    "Cost를 계산하는 작업\n",
    "\n",
    "Cost(W) = $-\\frac{1}{m}\\sum{ylog(H(x)) + (1-y)(log(1-H(x)))}$ $\\\\$"
   ]
  },
  {
   "cell_type": "code",
   "execution_count": 8,
   "metadata": {},
   "outputs": [
    {
     "data": {
      "text/plain": [
       "(tensor([[0.5000],\n",
       "         [0.5000],\n",
       "         [0.5000],\n",
       "         [0.5000],\n",
       "         [0.5000],\n",
       "         [0.5000]], grad_fn=<MulBackward0>),\n",
       " tensor([[0.],\n",
       "         [0.],\n",
       "         [0.],\n",
       "         [1.],\n",
       "         [1.],\n",
       "         [1.]]))"
      ]
     },
     "execution_count": 8,
     "metadata": {},
     "output_type": "execute_result"
    }
   ],
   "source": [
    "hypothesis, y_train"
   ]
  },
  {
   "cell_type": "code",
   "execution_count": 9,
   "metadata": {},
   "outputs": [
    {
     "data": {
      "text/plain": [
       "tensor([0.6931], grad_fn=<NegBackward0>)"
      ]
     },
     "execution_count": 9,
     "metadata": {},
     "output_type": "execute_result"
    }
   ],
   "source": [
    "- ( y_train[0] * torch.log(hypothesis[0]) + (1-y_train[0])*torch.log(1-hypothesis[0]) )"
   ]
  },
  {
   "cell_type": "code",
   "execution_count": 10,
   "metadata": {},
   "outputs": [
    {
     "data": {
      "text/plain": [
       "tensor([[0.6931],\n",
       "        [0.6931],\n",
       "        [0.6931],\n",
       "        [0.6931],\n",
       "        [0.6931],\n",
       "        [0.6931]], grad_fn=<NegBackward0>)"
      ]
     },
     "execution_count": 10,
     "metadata": {},
     "output_type": "execute_result"
    }
   ],
   "source": [
    "loss = - ( y_train * torch.log(hypothesis) + (1-y_train)*torch.log(1-hypothesis) )\n",
    "loss"
   ]
  },
  {
   "cell_type": "code",
   "execution_count": 11,
   "metadata": {},
   "outputs": [
    {
     "data": {
      "text/plain": [
       "tensor(0.6931, grad_fn=<MeanBackward0>)"
      ]
     },
     "execution_count": 11,
     "metadata": {},
     "output_type": "execute_result"
    }
   ],
   "source": [
    "cost = loss.mean()\n",
    "cost"
   ]
  },
  {
   "cell_type": "code",
   "execution_count": 12,
   "metadata": {},
   "outputs": [
    {
     "data": {
      "text/plain": [
       "tensor(0.6931, grad_fn=<BinaryCrossEntropyBackward0>)"
      ]
     },
     "execution_count": 12,
     "metadata": {},
     "output_type": "execute_result"
    }
   ],
   "source": [
    "#이진 크로스 엔트로피 함수를 이용하면 cost를 바로 계산할 수 있음\n",
    "#hypotesis = 1/1+e^-x만 계산해주면\n",
    "#알아서 log랑 sigmoid를 취해서 y_train과 비교후 cost를 계산해줌\n",
    "F.binary_cross_entropy(hypothesis,y_train)"
   ]
  },
  {
   "attachments": {},
   "cell_type": "markdown",
   "metadata": {},
   "source": [
    "위에서 구한 Hypothesis와 cost를 이용 + 경사하강법 => Logisitic Regression에 적합한 W,b를 찾기"
   ]
  },
  {
   "cell_type": "code",
   "execution_count": 13,
   "metadata": {},
   "outputs": [
    {
     "data": {
      "text/plain": [
       "(tensor([[1., 2.],\n",
       "         [2., 3.],\n",
       "         [3., 1.],\n",
       "         [4., 3.],\n",
       "         [5., 3.],\n",
       "         [6., 2.]]),\n",
       " tensor([[0.],\n",
       "         [0.],\n",
       "         [0.],\n",
       "         [1.],\n",
       "         [1.],\n",
       "         [1.]]))"
      ]
     },
     "execution_count": 13,
     "metadata": {},
     "output_type": "execute_result"
    }
   ],
   "source": [
    "x_train, y_train"
   ]
  },
  {
   "cell_type": "code",
   "execution_count": 14,
   "metadata": {},
   "outputs": [
    {
     "name": "stdout",
     "output_type": "stream",
     "text": [
      "Epoch :    0 /1000 Cost : 0.693147\n",
      "Epoch :  100 /1000 Cost : 0.134722\n",
      "Epoch :  200 /1000 Cost : 0.080643\n",
      "Epoch :  300 /1000 Cost : 0.057900\n",
      "Epoch :  400 /1000 Cost : 0.045300\n",
      "Epoch :  500 /1000 Cost : 0.037261\n",
      "Epoch :  600 /1000 Cost : 0.031673\n",
      "Epoch :  700 /1000 Cost : 0.027556\n",
      "Epoch :  800 /1000 Cost : 0.024394\n",
      "Epoch :  900 /1000 Cost : 0.021888\n",
      "Epoch : 1000 /1000 Cost : 0.019852\n"
     ]
    }
   ],
   "source": [
    "W = torch.zeros((2,1), requires_grad=True)\n",
    "b = torch.zeros(1, requires_grad=True)\n",
    "\n",
    "optimizer = optim.SGD([W,b], lr=1)\n",
    "\n",
    "nb_epoch = 1000\n",
    "\n",
    "for epoch in range(nb_epoch+1):\n",
    "    hypothesis = torch.sigmoid(x_train.matmul(W) + b)\n",
    "\n",
    "    #직접 공식을 이용해서 손실함수 계산\n",
    "    loss = -(y_train*torch.log(hypothesis) + (1-y_train)*torch.log(1-hypothesis) )\n",
    "    cost = loss.mean()\n",
    "\n",
    "    optimizer.zero_grad()\n",
    "    cost.backward()\n",
    "    optimizer.step()\n",
    "\n",
    "    if epoch%100==0:\n",
    "        print(\"Epoch : {:4d} /{} Cost : {:6f}\".format(epoch, nb_epoch, cost.item()))"
   ]
  },
  {
   "cell_type": "code",
   "execution_count": 15,
   "metadata": {},
   "outputs": [
    {
     "name": "stdout",
     "output_type": "stream",
     "text": [
      "Epoch :    0 /1000 Cost : 0.693147\n",
      "Epoch :  100 /1000 Cost : 0.134722\n",
      "Epoch :  200 /1000 Cost : 0.080643\n",
      "Epoch :  300 /1000 Cost : 0.057900\n",
      "Epoch :  400 /1000 Cost : 0.045300\n",
      "Epoch :  500 /1000 Cost : 0.037261\n",
      "Epoch :  600 /1000 Cost : 0.031672\n",
      "Epoch :  700 /1000 Cost : 0.027556\n",
      "Epoch :  800 /1000 Cost : 0.024394\n",
      "Epoch :  900 /1000 Cost : 0.021888\n",
      "Epoch : 1000 /1000 Cost : 0.019852\n"
     ]
    }
   ],
   "source": [
    "W = torch.zeros((2,1), requires_grad=True)\n",
    "b = torch.zeros(1, requires_grad=True)\n",
    "\n",
    "optimizer = optim.SGD([W,b], lr=1)\n",
    "\n",
    "nb_epoch = 1000\n",
    "\n",
    "for epoch in range(nb_epoch+1):\n",
    "    hypothesis = torch.sigmoid(x_train.matmul(W) + b)\n",
    "\n",
    "    #이진 크로스 엔트로피를 이용해서 손실함수 계산\n",
    "    cost = F.binary_cross_entropy(hypothesis,y_train)\n",
    "\n",
    "    optimizer.zero_grad()\n",
    "    cost.backward()\n",
    "    optimizer.step()\n",
    "\n",
    "    if epoch%100==0:\n",
    "        print(\"Epoch : {:4d} /{} Cost : {:6f}\".format(epoch, nb_epoch, cost.item()))"
   ]
  },
  {
   "attachments": {},
   "cell_type": "markdown",
   "metadata": {},
   "source": [
    "위에서 만든 원리를 이용해서 실제 데이터에 적용하기"
   ]
  },
  {
   "cell_type": "code",
   "execution_count": 16,
   "metadata": {},
   "outputs": [
    {
     "data": {
      "text/plain": [
       "(tensor([[-0.2941,  0.4874,  0.1803, -0.2929,  0.0000,  0.0015, -0.5312, -0.0333],\n",
       "         [-0.8824, -0.1457,  0.0820, -0.4141,  0.0000, -0.2072, -0.7669, -0.6667],\n",
       "         [-0.0588,  0.8392,  0.0492,  0.0000,  0.0000, -0.3055, -0.4927, -0.6333],\n",
       "         [-0.8824, -0.1055,  0.0820, -0.5354, -0.7778, -0.1624, -0.9240,  0.0000],\n",
       "         [ 0.0000,  0.3769, -0.3443, -0.2929, -0.6028,  0.2846,  0.8873, -0.6000]]),\n",
       " tensor([[0.],\n",
       "         [1.],\n",
       "         [0.],\n",
       "         [1.],\n",
       "         [0.]]))"
      ]
     },
     "execution_count": 16,
     "metadata": {},
     "output_type": "execute_result"
    }
   ],
   "source": [
    "#Real data로 불러오기\n",
    "#m개의 데이터 X 8개의 feature가 존재함 => m개의 데이터를 0or1로 분류하는 작업\n",
    "xy = np.loadtxt('https://raw.githubusercontent.com/hunkim/DeepLearningZeroToAll/master/data-03-diabetes.csv', delimiter=',', dtype=np.float32)\n",
    "x_data = xy[:, 0:-1]\n",
    "y_data = xy[:, [-1]]\n",
    "x_train = torch.FloatTensor(x_data)\n",
    "y_train = torch.FloatTensor(y_data)\n",
    "x_train[:5], y_train[:5]"
   ]
  },
  {
   "cell_type": "code",
   "execution_count": 17,
   "metadata": {},
   "outputs": [
    {
     "name": "stdout",
     "output_type": "stream",
     "text": [
      "Epoch    0/100 Cost: 0.693147\n",
      "Epoch   10/100 Cost: 0.572727\n",
      "Epoch   20/100 Cost: 0.539493\n",
      "Epoch   30/100 Cost: 0.519708\n",
      "Epoch   40/100 Cost: 0.507066\n",
      "Epoch   50/100 Cost: 0.498539\n",
      "Epoch   60/100 Cost: 0.492549\n",
      "Epoch   70/100 Cost: 0.488209\n",
      "Epoch   80/100 Cost: 0.484985\n",
      "Epoch   90/100 Cost: 0.482543\n",
      "Epoch  100/100 Cost: 0.480661\n"
     ]
    }
   ],
   "source": [
    "#featurer 8개이므로 각 feature의 가중치를 0으로 설정해줌\n",
    "W = torch.zeros((8,1), requires_grad=True)\n",
    "b = torch.zeros(1, requires_grad=True)\n",
    "\n",
    "optimizer = optim.SGD([W,b] , lr=1)\n",
    "\n",
    "nb_epochs = 100\n",
    "\n",
    "for epoch in range(nb_epochs+1):\n",
    "    hypothesis = torch.sigmoid(x_train.matmul(W)+b)\n",
    "    \n",
    "    lost = -(y_train*torch.log(hypothesis) + (1-y_train)*torch.log(1-hypothesis))\n",
    "    cost = lost.mean()\n",
    "\n",
    "    optimizer.zero_grad()\n",
    "    cost.backward()\n",
    "    optimizer.step()\n",
    "\n",
    "    if epoch % 10 == 0:\n",
    "        #W,b가 경사하강법을 거치면서 점차 손실함수가 적어지는 방향으로 수정중\n",
    "        #print(\"W=\",W, \" b = \",b)\n",
    "        print('Epoch {:4d}/{} Cost: {:.6f}'.format(epoch, nb_epochs, cost.item()))"
   ]
  },
  {
   "cell_type": "code",
   "execution_count": 18,
   "metadata": {},
   "outputs": [
    {
     "name": "stdout",
     "output_type": "stream",
     "text": [
      "Epoch    0/100 Cost: 0.693147\n",
      "Epoch   10/100 Cost: 0.572727\n",
      "Epoch   20/100 Cost: 0.539493\n",
      "Epoch   30/100 Cost: 0.519708\n",
      "Epoch   40/100 Cost: 0.507066\n",
      "Epoch   50/100 Cost: 0.498539\n",
      "Epoch   60/100 Cost: 0.492549\n",
      "Epoch   70/100 Cost: 0.488209\n",
      "Epoch   80/100 Cost: 0.484985\n",
      "Epoch   90/100 Cost: 0.482543\n",
      "Epoch  100/100 Cost: 0.480661\n"
     ]
    }
   ],
   "source": [
    "#featurer 8개이므로 각 feature의 가중치를 0으로 설정해줌\n",
    "W = torch.zeros((8,1), requires_grad=True)\n",
    "b = torch.zeros(1, requires_grad=True)\n",
    "\n",
    "optimizer = optim.SGD([W,b] , lr=1)\n",
    "\n",
    "nb_epochs = 100\n",
    "\n",
    "for epoch in range(nb_epochs+1):\n",
    "    hypothesis = torch.sigmoid(x_train.matmul(W)+b)\n",
    "    \n",
    "    cost = F.binary_cross_entropy(hypothesis,y_train)\n",
    "\n",
    "    optimizer.zero_grad()\n",
    "    cost.backward()\n",
    "    optimizer.step()\n",
    "\n",
    "    if epoch % 10 == 0:\n",
    "        print('Epoch {:4d}/{} Cost: {:.6f}'.format(epoch, nb_epochs, cost.item()))"
   ]
  },
  {
   "attachments": {},
   "cell_type": "markdown",
   "metadata": {},
   "source": [
    "수동으로 로지스틱 회귀를 적용한 후 모델의 정확도 성능을 평가"
   ]
  },
  {
   "cell_type": "code",
   "execution_count": 19,
   "metadata": {},
   "outputs": [
    {
     "data": {
      "text/plain": [
       "tensor([[0.4103],\n",
       "        [0.9242],\n",
       "        [0.2300],\n",
       "        [0.9411],\n",
       "        [0.1772]], grad_fn=<SliceBackward0>)"
      ]
     },
     "execution_count": 19,
     "metadata": {},
     "output_type": "execute_result"
    }
   ],
   "source": [
    "hypothesis = torch.sigmoid(x_train.matmul(W)+b)\n",
    "hypothesis[:5]"
   ]
  },
  {
   "cell_type": "code",
   "execution_count": 20,
   "metadata": {},
   "outputs": [
    {
     "data": {
      "text/plain": [
       "tensor([[False],\n",
       "        [ True],\n",
       "        [False],\n",
       "        [ True],\n",
       "        [False]])"
      ]
     },
     "execution_count": 20,
     "metadata": {},
     "output_type": "execute_result"
    }
   ],
   "source": [
    "prediction = hypothesis>0.5\n",
    "prediction[:5]"
   ]
  },
  {
   "cell_type": "code",
   "execution_count": 21,
   "metadata": {},
   "outputs": [
    {
     "data": {
      "text/plain": [
       "tensor([[0.],\n",
       "        [1.],\n",
       "        [0.],\n",
       "        [1.],\n",
       "        [0.]])"
      ]
     },
     "execution_count": 21,
     "metadata": {},
     "output_type": "execute_result"
    }
   ],
   "source": [
    "y_train[:5]"
   ]
  },
  {
   "cell_type": "code",
   "execution_count": 22,
   "metadata": {},
   "outputs": [
    {
     "data": {
      "text/plain": [
       "tensor([[ True],\n",
       "        [ True],\n",
       "        [ True],\n",
       "        [ True],\n",
       "        [ True],\n",
       "        [ True],\n",
       "        [False]])"
      ]
     },
     "execution_count": 22,
     "metadata": {},
     "output_type": "execute_result"
    }
   ],
   "source": [
    "correct_prediction = prediction==y_train\n",
    "correct_prediction[:7]"
   ]
  },
  {
   "cell_type": "code",
   "execution_count": 23,
   "metadata": {},
   "outputs": [
    {
     "data": {
      "text/plain": [
       "tensor(0.7668)"
      ]
     },
     "execution_count": 23,
     "metadata": {},
     "output_type": "execute_result"
    }
   ],
   "source": [
    "accuracy = correct_prediction.sum() / len(correct_prediction)\n",
    "accuracy"
   ]
  },
  {
   "attachments": {},
   "cell_type": "markdown",
   "metadata": {},
   "source": [
    "모듈(nn.Module)를 이용해서 로지스틱회귀모델 만들기"
   ]
  },
  {
   "cell_type": "code",
   "execution_count": 24,
   "metadata": {},
   "outputs": [],
   "source": [
    "class BinaryClassifier(nn.Module):\n",
    "    def __init__(self):\n",
    "        super().__init__()\n",
    "        #self.linear = {W,b}를 설정하는 작업으로 \n",
    "        #m=?, d=8, W=8x1, b=1 \n",
    "        self.linear = nn.Linear(8,1) \n",
    "\n",
    "        self.sigmoid = nn.Sigmoid()\n",
    "    \n",
    "    def forward(self, x):\n",
    "        return self.sigmoid(self.linear(x))"
   ]
  },
  {
   "cell_type": "code",
   "execution_count": 25,
   "metadata": {},
   "outputs": [
    {
     "data": {
      "text/plain": [
       "BinaryClassifier(\n",
       "  (linear): Linear(in_features=8, out_features=1, bias=True)\n",
       "  (sigmoid): Sigmoid()\n",
       ")"
      ]
     },
     "execution_count": 25,
     "metadata": {},
     "output_type": "execute_result"
    }
   ],
   "source": [
    "model = BinaryClassifier()\n",
    "model"
   ]
  },
  {
   "cell_type": "code",
   "execution_count": 26,
   "metadata": {},
   "outputs": [
    {
     "data": {
      "text/plain": [
       "[Parameter containing:\n",
       " tensor([[ 0.1822, -0.1561, -0.0685,  0.1659, -0.3328,  0.2120, -0.0727,  0.1799]],\n",
       "        requires_grad=True),\n",
       " Parameter containing:\n",
       " tensor([0.0491], requires_grad=True)]"
      ]
     },
     "execution_count": 26,
     "metadata": {},
     "output_type": "execute_result"
    }
   ],
   "source": [
    "list(model.parameters())"
   ]
  },
  {
   "cell_type": "code",
   "execution_count": 27,
   "metadata": {},
   "outputs": [
    {
     "name": "stdout",
     "output_type": "stream",
     "text": [
      "Epoch    0/100 Cost: 0.704829 Accuracy 45.72%\n",
      "Epoch   10/100 Cost: 0.572392 Accuracy 67.59%\n",
      "Epoch   20/100 Cost: 0.539564 Accuracy 73.25%\n",
      "Epoch   30/100 Cost: 0.520041 Accuracy 75.89%\n",
      "Epoch   40/100 Cost: 0.507561 Accuracy 76.15%\n",
      "Epoch   50/100 Cost: 0.499125 Accuracy 76.42%\n",
      "Epoch   60/100 Cost: 0.493177 Accuracy 77.21%\n",
      "Epoch   70/100 Cost: 0.488846 Accuracy 76.81%\n",
      "Epoch   80/100 Cost: 0.485612 Accuracy 76.28%\n",
      "Epoch   90/100 Cost: 0.483146 Accuracy 76.55%\n",
      "Epoch  100/100 Cost: 0.481234 Accuracy 76.81%\n"
     ]
    }
   ],
   "source": [
    "optimizer = optim.SGD(model.parameters(), lr=1)\n",
    "\n",
    "nb_epoch=100\n",
    "\n",
    "for epoch in range(nb_epoch+1):\n",
    "    hypothesis = model(x_train)\n",
    "\n",
    "    cost = F.binary_cross_entropy(hypothesis,y_train)\n",
    "   \n",
    "    optimizer.zero_grad()\n",
    "    cost.backward()\n",
    "    optimizer.step()\n",
    "\n",
    "    if epoch%10==0:\n",
    "        #model이 SGD를 이용해서 학습하면서 W,b를 갱신함\n",
    "        #print(list(model.parameters()))\n",
    "        \n",
    "        prediction = hypothesis>=0.5\n",
    "        correct_prediction = prediction==y_train\n",
    "        accuracy = correct_prediction.sum() / len(correct_prediction)\n",
    "        print('Epoch {:4d}/{} Cost: {:.6f} Accuracy {:2.2f}%'.format( epoch, nb_epochs, cost.item(), accuracy * 100, ))\n"
   ]
  }
 ],
 "metadata": {
  "kernelspec": {
   "display_name": "Python 3",
   "language": "python",
   "name": "python3"
  },
  "language_info": {
   "codemirror_mode": {
    "name": "ipython",
    "version": 3
   },
   "file_extension": ".py",
   "mimetype": "text/x-python",
   "name": "python",
   "nbconvert_exporter": "python",
   "pygments_lexer": "ipython3",
   "version": "3.10.9 (tags/v3.10.9:1dd9be6, Dec  6 2022, 20:01:21) [MSC v.1934 64 bit (AMD64)]"
  },
  "orig_nbformat": 4,
  "vscode": {
   "interpreter": {
    "hash": "95f1ed8339fc15ac7f89ecef91cfc88a009aaf2bb1573f871691d038972c2dcc"
   }
  }
 },
 "nbformat": 4,
 "nbformat_minor": 2
}
