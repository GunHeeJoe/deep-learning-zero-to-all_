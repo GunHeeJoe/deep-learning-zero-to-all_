{
 "cells": [
  {
   "attachments": {},
   "cell_type": "markdown",
   "metadata": {},
   "source": [
    "# 6.Softmax Classification\n",
    "\n",
    "###### 2개 클래스를 분류할 때는 sigmoid함수가 유도된다\n",
    "###### 3개 이상 클래스로 분류할 때는 softmax함수가 유도된다"
   ]
  },
  {
   "attachments": {},
   "cell_type": "markdown",
   "metadata": {},
   "source": [
    "P(class = i) = $\\frac{e^i}{\\sum_ie^i}$ \n",
    "모든 확률의 합=1\n",
    "F.softmax(데이터, dim=0) // dim=0은 열별 합철수가 가위를 냈을 때 , softmax = [0.2, 0.3, 0.5]이면 $\\\\$\n",
    "p(가위|철수=가위) = 0.2 $\\\\$\n",
    "p(바위|철수=가위) = 0.3 $\\\\$\n",
    "p(보|철수=가위) = 0.5 $\\\\$\n",
    "이렇게 0과 1사이 확률값으로 표현할 수 있다"
   ]
  },
  {
   "attachments": {},
   "cell_type": "markdown",
   "metadata": {},
   "source": [
    "### Softmax함수 적용하기"
   ]
  },
  {
   "cell_type": "code",
   "execution_count": 1,
   "metadata": {},
   "outputs": [
    {
     "data": {
      "text/plain": [
       "<torch._C.Generator at 0x1e3ec979bf0>"
      ]
     },
     "execution_count": 1,
     "metadata": {},
     "output_type": "execute_result"
    }
   ],
   "source": [
    "import torch \n",
    "import torch.nn as nn\n",
    "import torch.nn.functional as F\n",
    "import torch.optim as optim\n",
    "\n",
    "torch.manual_seed(1)"
   ]
  },
  {
   "cell_type": "code",
   "execution_count": 2,
   "metadata": {},
   "outputs": [
    {
     "data": {
      "text/plain": [
       "tensor([1., 2., 3.])"
      ]
     },
     "execution_count": 2,
     "metadata": {},
     "output_type": "execute_result"
    }
   ],
   "source": [
    "z = torch.FloatTensor([1,2,3])\n",
    "z"
   ]
  },
  {
   "cell_type": "code",
   "execution_count": 5,
   "metadata": {},
   "outputs": [
    {
     "data": {
      "text/plain": [
       "tensor([0.0900, 0.2447, 0.6652])"
      ]
     },
     "execution_count": 5,
     "metadata": {},
     "output_type": "execute_result"
    }
   ],
   "source": [
    "hypothesis = F.softmax(z, dim=0)\n",
    "hypothesis"
   ]
  },
  {
   "cell_type": "code",
   "execution_count": 6,
   "metadata": {},
   "outputs": [
    {
     "data": {
      "text/plain": [
       "tensor(1.)"
      ]
     },
     "execution_count": 6,
     "metadata": {},
     "output_type": "execute_result"
    }
   ],
   "source": [
    "hypothesis.sum()"
   ]
  },
  {
   "attachments": {},
   "cell_type": "markdown",
   "metadata": {},
   "source": [
    "## 엔트로피\n",
    "블로그 참조 : https://ratsgo.github.io/statistics/2017/09/22/information/ $\\\\$\n",
    "x사건 : 동전이 앞면이 나오는 사건\n",
    "0<=P(x)<=1\n",
    "1. 정보량 I(x) = -logP(x) = -log0.5 // 정보량은 확률이 클 수록 줄이들고, 확률이 작을수록 커진다 => 확률이크다=거의 정해져있다=정보가없다 $\\\\$\n",
    "$\\quad\\quad\\quad\\quad\\quad\\quad\\quad\\quad\\quad\\quad\\quad\\quad\\quad\\quad\\quad\\quad\\quad\\quad\\quad\\quad\\quad\\quad\\quad\\quad\\quad\\quad\\quad\\quad\\quad\\quad\\quad\\quad\\quad\\quad\\quad\\quad$확률이작다=불확실하다=정보가 많다\n",
    "\n",
    "2. 섀넌 엔트로피 H(x) = $E_{X-P}[I(x)] = E_{X-P}[-logP(x)]$ // 섀넌 엔트로피는 하나의 사건이 아니라 모든 사건의 정보량의 기대값 = I(동전앞면)+I(동전뒷정보량)의 기댓값\n",
    "// 0.5*log0.5 + 0.5*log0.5=1 // p=0.5일때. 섀넌 엔트로피=1로 가장 크게 나타나고, P=0or1이면 섀년 엔트로피=0으로 가장 작게 나타남\n",
    "\n",
    "3. KL Divergence(쿨백-라이블러 발산) KLD => $D_{kl}(P||Q) = E_{X-P}[log\\frac{P(x)}{Q(x)}]$ // KLD는 두 확률분포의 차이를 계사하는 함수 P(x)는 실제값 & Q(x)는 예측값간 차이를 KLD를 이용해서 계산할 수 있지만, 비대칭으로 P와Q 위치가 바뀌면 KLD값도 바뀌므로 거리계산에서는 사용할 수 없음(절댓값, 제곱을 취하지 않으므로)\n",
    "\n",
    "4. Cross entropy(크로스 엔트로피) H(P,Q) = E_{X-P}[-logQ(x)] = $-\\sum_xP(x)logQ(x)$ // 두 확률분포가 교차로 곱해지는 엔트로피 계산방삭이다\n",
    "P(x), Q(x)의 그래프를 예시로 두고 표현하면, KLD의 비대칭문제를 해결할 수 있다.\n",
    "\n",
    "-KLD VS Cross entropy는 두 확률분포가 비슷하면 0에 가깝다. 즉 Q의 예측값을 점점 P에 가깝게 하므로써(실제값과 비슷하게) 학습과정을 진행하는데, 이때 두 엔트로피를 줄이는 방향으로 진행해 나가며 된다\n",
    "\n",
    "$D_{kl}(P||Q) = -\\sum_xlogP(x)\\frac{Q(x)}{P(x)}$ = H(P.Q) - H(P) $\\\\$\n",
    "H(P.Q) = H(P) + $D_{kl}(P||Q)$ 로 계산된다. H(P)는 실제 데이터분포이므로 학습과정에서 바뀌지 않는다. 즉 크로스 엔트로피를 줄인다는 것은 KLD를 줄인다는 것과 의미가 같다"
   ]
  },
  {
   "attachments": {},
   "cell_type": "markdown",
   "metadata": {},
   "source": [
    "### 크로스 엔트로피 적용하기"
   ]
  },
  {
   "cell_type": "code",
   "execution_count": 23,
   "metadata": {},
   "outputs": [
    {
     "data": {
      "text/plain": [
       "(tensor([[0.0748, 0.9799, 0.5261, 0.8427, 0.6036],\n",
       "         [0.6608, 0.8735, 0.9741, 0.1682, 0.5625],\n",
       "         [0.8731, 0.8622, 0.8106, 0.1381, 0.1399]], requires_grad=True),\n",
       " tensor([[0.1124, 0.2779, 0.1765, 0.2423, 0.1908],\n",
       "         [0.1952, 0.2415, 0.2671, 0.1193, 0.1769],\n",
       "         [0.2572, 0.2544, 0.2416, 0.1233, 0.1235]], grad_fn=<SoftmaxBackward0>))"
      ]
     },
     "execution_count": 23,
     "metadata": {},
     "output_type": "execute_result"
    }
   ],
   "source": [
    "z = torch.rand(3,5, requires_grad=True)\n",
    "hypothesis = F.softmax(z, dim=1)\n",
    "\n",
    "#sample=3, classes=5로 각 클래스에 속할 값을 알려줌\n",
    "#해당 z값들은 범위의 제한이 없으므로 softmax함수를 적용해서 [0,1]사이 값으로 변형\n",
    "z,hypothesis"
   ]
  },
  {
   "cell_type": "code",
   "execution_count": 70,
   "metadata": {},
   "outputs": [
    {
     "data": {
      "text/plain": [
       "tensor([1, 3, 2])"
      ]
     },
     "execution_count": 70,
     "metadata": {},
     "output_type": "execute_result"
    }
   ],
   "source": [
    "#실제 각 samples이 속하는 클래스(여기서는 랜덤지정)\n",
    "y = torch.randint(5,(3,))\n",
    "y"
   ]
  },
  {
   "cell_type": "code",
   "execution_count": 71,
   "metadata": {},
   "outputs": [
    {
     "data": {
      "text/plain": [
       "(tensor([1, 3, 2]),\n",
       " tensor([[1, 3, 2]]),\n",
       " tensor([[1],\n",
       "         [3],\n",
       "         [2]]))"
      ]
     },
     "execution_count": 71,
     "metadata": {},
     "output_type": "execute_result"
    }
   ],
   "source": [
    "y,y.unsqueeze(0), y.unsqueeze(1)"
   ]
  },
  {
   "cell_type": "code",
   "execution_count": 72,
   "metadata": {},
   "outputs": [
    {
     "data": {
      "text/plain": [
       "tensor([[0., 1., 0., 0., 0.],\n",
       "        [0., 0., 0., 1., 0.],\n",
       "        [0., 0., 1., 0., 0.]])"
      ]
     },
     "execution_count": 72,
     "metadata": {},
     "output_type": "execute_result"
    }
   ],
   "source": [
    "#one-hot-encoding을 하기 위해 (3,5)행렬을 모두 0으로 초기화\n",
    "y_one_hot = torch.zeros_like(hypothesis)\n",
    "\n",
    "#scatter_ 밑줄을 쓰면 inplace=True반영\n",
    "#dim=1 : 행을 기준으로 ont-hot-encoding를 할 것이다\n",
    "#y.unsqieeze(1) => 각 행별 어느 인덱스에 값을 넣을지 지정해줌 => 1행에 1, 2행에2, 3행에 0번 인덱스에 값 반영\n",
    "#src=1 : 실제 반영할 값\n",
    "y_one_hot.scatter_(1,y.unsqueeze(1),1)"
   ]
  },
  {
   "cell_type": "code",
   "execution_count": 74,
   "metadata": {},
   "outputs": [
    {
     "data": {
      "text/plain": [
       "tensor([[0.0000, 1.2803, 0.0000, 0.0000, 0.0000],\n",
       "        [0.0000, 0.0000, 0.0000, 2.1262, 0.0000],\n",
       "        [0.0000, 0.0000, 1.4205, 0.0000, 0.0000]], grad_fn=<MulBackward0>)"
      ]
     },
     "execution_count": 74,
     "metadata": {},
     "output_type": "execute_result"
    }
   ],
   "source": [
    "#y_one_hot : 실제값(P(x)) = 5개의 클래스 중에서 하나만 1\n",
    "#hypothesis : 예측값(Q(x)) = 5개의 클래스 중에서 하나만 1로 예측함\n",
    "#크로스 엔트로피를 이용해서 P(x)*-logQ(x)계산\n",
    "y_one_hot*-torch.log(hypothesis)"
   ]
  },
  {
   "cell_type": "code",
   "execution_count": 81,
   "metadata": {},
   "outputs": [
    {
     "data": {
      "text/plain": [
       "tensor([1.2803, 2.1262, 1.4205], grad_fn=<SumBackward1>)"
      ]
     },
     "execution_count": 81,
     "metadata": {},
     "output_type": "execute_result"
    }
   ],
   "source": [
    "#각 sample별 합=>어차피 y_one_hot은 하나만 1이고 나머지는 0이므로\n",
    "#1에 해당하는 P(x)*-logQ(x)값만 구함\n",
    "(y_one_hot*-torch.log(hypothesis)).sum(dim=1)"
   ]
  },
  {
   "cell_type": "code",
   "execution_count": 82,
   "metadata": {},
   "outputs": [
    {
     "data": {
      "text/plain": [
       "tensor(1.6090, grad_fn=<MeanBackward0>)"
      ]
     },
     "execution_count": 82,
     "metadata": {},
     "output_type": "execute_result"
    }
   ],
   "source": [
    "#우리가 구하고 싶은 크로스 엔트로피 값\n",
    "(y_one_hot*-torch.log(hypothesis)).sum(dim=1).mean()"
   ]
  },
  {
   "attachments": {},
   "cell_type": "markdown",
   "metadata": {},
   "source": [
    "### torch.nn.functional를 이용해서 크로스 엔트로피 적용하기\n",
    "\n",
    "위에서는 예측값z -> softmax로 적용시킴(hypothesis=Q(x)) $\\\\$\n",
    "실제값(one-hot-encoding된 상태)P(x) 와 Q(x)를 이용해서 $-\\sum_xP(x)logQ(x)$ 계산한다"
   ]
  },
  {
   "cell_type": "code",
   "execution_count": 86,
   "metadata": {},
   "outputs": [
    {
     "data": {
      "text/plain": [
       "tensor([[-2.1855, -1.2803, -1.7342, -1.4175, -1.6567],\n",
       "        [-1.6336, -1.4209, -1.3203, -2.1262, -1.7319],\n",
       "        [-1.3580, -1.3689, -1.4205, -2.0930, -2.0912]], grad_fn=<LogBackward0>)"
      ]
     },
     "execution_count": 86,
     "metadata": {},
     "output_type": "execute_result"
    }
   ],
   "source": [
    "#logQ(x)를 이렇게 계산해도 됨\n",
    "torch.log(F.softmax(z, dim=1))"
   ]
  },
  {
   "cell_type": "code",
   "execution_count": 88,
   "metadata": {},
   "outputs": [
    {
     "data": {
      "text/plain": [
       "tensor([[-2.1855, -1.2803, -1.7342, -1.4175, -1.6567],\n",
       "        [-1.6336, -1.4209, -1.3203, -2.1262, -1.7319],\n",
       "        [-1.3580, -1.3689, -1.4205, -2.0930, -2.0912]],\n",
       "       grad_fn=<LogSoftmaxBackward0>)"
      ]
     },
     "execution_count": 88,
     "metadata": {},
     "output_type": "execute_result"
    }
   ],
   "source": [
    "#logQ(x)를 F함수를 이용해서 계산\n",
    "F.log_softmax(z,dim=1)"
   ]
  },
  {
   "cell_type": "code",
   "execution_count": 89,
   "metadata": {},
   "outputs": [
    {
     "data": {
      "text/plain": [
       "tensor(1.6090, grad_fn=<MeanBackward0>)"
      ]
     },
     "execution_count": 89,
     "metadata": {},
     "output_type": "execute_result"
    }
   ],
   "source": [
    "(y_one_hot*-torch.log(hypothesis)).sum(dim=1).mean()"
   ]
  },
  {
   "cell_type": "code",
   "execution_count": 91,
   "metadata": {},
   "outputs": [
    {
     "data": {
      "text/plain": [
       "tensor(1.6090, grad_fn=<MeanBackward0>)"
      ]
     },
     "execution_count": 91,
     "metadata": {},
     "output_type": "execute_result"
    }
   ],
   "source": [
    "#softmax를 적용시킨 Q(x) -> logQ(x)\n",
    "(y_one_hot*-F.log_softmax(z,dim=1)).sum(dim=1).mean()"
   ]
  },
  {
   "cell_type": "code",
   "execution_count": 93,
   "metadata": {},
   "outputs": [
    {
     "data": {
      "text/plain": [
       "tensor(1.6090, grad_fn=<NllLossBackward0>)"
      ]
     },
     "execution_count": 93,
     "metadata": {},
     "output_type": "execute_result"
    }
   ],
   "source": [
    "#logQ(x), P(x)를 인수로주면 크로스 엔트로피를 계산해주는 함수\n",
    "F.nll_loss(F.log_softmax(z,dim=1), y)"
   ]
  },
  {
   "cell_type": "code",
   "execution_count": 95,
   "metadata": {},
   "outputs": [
    {
     "data": {
      "text/plain": [
       "tensor(1.6090, grad_fn=<NllLossBackward0>)"
      ]
     },
     "execution_count": 95,
     "metadata": {},
     "output_type": "execute_result"
    }
   ],
   "source": [
    "#예측값z, 정답값y를 인수로주면 크로스 엔트로피를 계산해주는 함수\n",
    "F.cross_entropy(z,y)"
   ]
  },
  {
   "attachments": {},
   "cell_type": "markdown",
   "metadata": {},
   "source": [
    "## 위에서 구한 softmax와 cross entropy를 이용해서 학습하는 방법"
   ]
  },
  {
   "cell_type": "code",
   "execution_count": 96,
   "metadata": {},
   "outputs": [
    {
     "data": {
      "text/plain": [
       "(tensor([[1., 2., 1., 1.],\n",
       "         [2., 1., 3., 2.],\n",
       "         [3., 1., 3., 4.],\n",
       "         [4., 1., 5., 5.],\n",
       "         [1., 7., 5., 5.],\n",
       "         [1., 2., 5., 6.],\n",
       "         [1., 6., 6., 6.],\n",
       "         [1., 7., 7., 7.]]),\n",
       " tensor([2, 2, 2, 1, 1, 1, 0, 0]))"
      ]
     },
     "execution_count": 96,
     "metadata": {},
     "output_type": "execute_result"
    }
   ],
   "source": [
    "#8개의 sample데이터와 4개의 클래스가 존재함 + 각 클래스에 속할 점수값들이 있음\n",
    "#우리는 4개의 클래스를 이용해서 3개의 분류를 할 예정임(0/1/2)\n",
    "\n",
    "x_train = [[1, 2, 1, 1],\n",
    "           [2, 1, 3, 2],\n",
    "           [3, 1, 3, 4],\n",
    "           [4, 1, 5, 5],\n",
    "           [1, 7, 5, 5],\n",
    "           [1, 2, 5, 6],\n",
    "           [1, 6, 6, 6],\n",
    "           [1, 7, 7, 7]]\n",
    "y_train = [2, 2, 2, 1, 1, 1, 0, 0]\n",
    "x_train = torch.FloatTensor(x_train)\n",
    "y_train = torch.LongTensor(y_train)\n",
    "x_train, y_train"
   ]
  },
  {
   "attachments": {},
   "cell_type": "markdown",
   "metadata": {},
   "source": [
    "1. 예측값을 계산한다\n",
    "2. 정답값label를 one-hot-encoding한다\n",
    "3. 예측값-정답값을 이용해서 cost를 계산한다\n",
    "4. gradient초기화-cost를이용한 gradient계산-계산한 gradient로 W,b업데이트"
   ]
  },
  {
   "cell_type": "code",
   "execution_count": 100,
   "metadata": {},
   "outputs": [
    {
     "name": "stdout",
     "output_type": "stream",
     "text": [
      "Epoch    0/1000 Cost: 1.098612\n",
      "Epoch  100/1000 Cost: 0.901535\n",
      "Epoch  200/1000 Cost: 0.839114\n",
      "Epoch  300/1000 Cost: 0.807826\n",
      "Epoch  400/1000 Cost: 0.788472\n",
      "Epoch  500/1000 Cost: 0.774822\n",
      "Epoch  600/1000 Cost: 0.764449\n",
      "Epoch  700/1000 Cost: 0.756191\n",
      "Epoch  800/1000 Cost: 0.749398\n",
      "Epoch  900/1000 Cost: 0.743671\n",
      "Epoch 1000/1000 Cost: 0.738749\n"
     ]
    }
   ],
   "source": [
    "#각 클래스별 0/1/2의 가중치를 나타내므로 클래스=4, 분류=3으로 W를 표현함\n",
    "W = torch.zeros((4,3), requires_grad=True)\n",
    "b = torch.zeros(1,requires_grad=True)\n",
    "\n",
    "optimizer = optim.SGD([W,b], lr=0.1)\n",
    "\n",
    "nb_epochs = 1000\n",
    "\n",
    "for epoch in range(nb_epochs+1):\n",
    "    hypothesis = F.softmax(x_train.matmul(W) + b, dim=1)\n",
    "\n",
    "    #분류 실제값 y도 one-hot-encoding를 진행함\n",
    "    y_one_hot = torch.zeros_like(hypothesis)\n",
    "    y_one_hot.scatter_(1, y_train.unsqueeze(1), 1)\n",
    "\n",
    "    cost = (y_one_hot * -torch.log(F.softmax(hypothesis,dim=1))).sum(dim=1).mean()\n",
    "\n",
    "    optimizer.zero_grad()\n",
    "    cost.backward()\n",
    "    optimizer.step()\n",
    "\n",
    "    if epoch % 100 == 0:\n",
    "        print('Epoch {:4d}/{} Cost: {:.6f}'.format(epoch, nb_epochs, cost.item()))"
   ]
  },
  {
   "cell_type": "code",
   "execution_count": 103,
   "metadata": {},
   "outputs": [
    {
     "name": "stdout",
     "output_type": "stream",
     "text": [
      "Epoch    0/1000 Cost: 1.098612\n",
      "Epoch  100/1000 Cost: 0.761050\n",
      "Epoch  200/1000 Cost: 0.689991\n",
      "Epoch  300/1000 Cost: 0.643229\n",
      "Epoch  400/1000 Cost: 0.604117\n",
      "Epoch  500/1000 Cost: 0.568255\n",
      "Epoch  600/1000 Cost: 0.533922\n",
      "Epoch  700/1000 Cost: 0.500291\n",
      "Epoch  800/1000 Cost: 0.466908\n",
      "Epoch  900/1000 Cost: 0.433507\n",
      "Epoch 1000/1000 Cost: 0.399962\n"
     ]
    }
   ],
   "source": [
    "W = torch.zeros((4,3), requires_grad=True)\n",
    "b = torch.zeros(1,requires_grad=True)\n",
    "\n",
    "optimizer = optim.SGD([W,b], lr=0.1)\n",
    "\n",
    "nb_epochs = 1000\n",
    "\n",
    "for epoch in range(nb_epochs+1):\n",
    "    z = x_train.matmul(W) + b\n",
    "\n",
    "    #예측값 z를 softmax적용 + 정답값y를 one-hot-encoding 작업을 함수로 대체함\n",
    "    cost = F.cross_entropy(z,y_train)\n",
    "\n",
    "    optimizer.zero_grad()\n",
    "    cost.backward()\n",
    "    optimizer.step()\n",
    "\n",
    "    if epoch % 100 == 0:\n",
    "        print('Epoch {:4d}/{} Cost: {:.6f}'.format(epoch, nb_epochs, cost.item()))"
   ]
  },
  {
   "cell_type": "code",
   "execution_count": 104,
   "metadata": {},
   "outputs": [],
   "source": [
    "#4개의 input -> 3개의 output으로 분류하는 모델\n",
    "class SoftmaxClassifierModel(nn.Module):\n",
    "    def __init__(self):\n",
    "        super().__init__()\n",
    "        self.linear = nn.Linear(4,3)\n",
    "\n",
    "    def forward(self,x):\n",
    "        return self.linear(x)"
   ]
  },
  {
   "cell_type": "code",
   "execution_count": 106,
   "metadata": {},
   "outputs": [
    {
     "data": {
      "text/plain": [
       "SoftmaxClassifierModel(\n",
       "  (linear): Linear(in_features=4, out_features=3, bias=True)\n",
       ")"
      ]
     },
     "execution_count": 106,
     "metadata": {},
     "output_type": "execute_result"
    }
   ],
   "source": [
    "model = SoftmaxClassifierModel()\n",
    "model"
   ]
  },
  {
   "cell_type": "code",
   "execution_count": 107,
   "metadata": {},
   "outputs": [
    {
     "name": "stdout",
     "output_type": "stream",
     "text": [
      "Epoch    0/1000 Cost: 1.528949\n",
      "Epoch  100/1000 Cost: 0.643070\n",
      "Epoch  200/1000 Cost: 0.558123\n",
      "Epoch  300/1000 Cost: 0.503727\n",
      "Epoch  400/1000 Cost: 0.459507\n",
      "Epoch  500/1000 Cost: 0.420190\n",
      "Epoch  600/1000 Cost: 0.383406\n",
      "Epoch  700/1000 Cost: 0.347632\n",
      "Epoch  800/1000 Cost: 0.311712\n",
      "Epoch  900/1000 Cost: 0.275230\n",
      "Epoch 1000/1000 Cost: 0.244543\n"
     ]
    }
   ],
   "source": [
    "optimizer = optim.SGD(model.parameters(), lr=0.1)\n",
    "\n",
    "for epoch in range(nb_epochs+1):\n",
    "    prediction = model(x_train)\n",
    "\n",
    "    cost = F.cross_entropy(prediction,y_train)\n",
    "\n",
    "    optimizer.zero_grad()\n",
    "    cost.backward()\n",
    "    optimizer.step()\n",
    "\n",
    "    if epoch % 100 == 0:\n",
    "        print('Epoch {:4d}/{} Cost: {:.6f}'.format(epoch, nb_epochs, cost.item()))"
   ]
  }
 ],
 "metadata": {
  "kernelspec": {
   "display_name": "Python 3",
   "language": "python",
   "name": "python3"
  },
  "language_info": {
   "codemirror_mode": {
    "name": "ipython",
    "version": 3
   },
   "file_extension": ".py",
   "mimetype": "text/x-python",
   "name": "python",
   "nbconvert_exporter": "python",
   "pygments_lexer": "ipython3",
   "version": "3.10.9 (tags/v3.10.9:1dd9be6, Dec  6 2022, 20:01:21) [MSC v.1934 64 bit (AMD64)]"
  },
  "orig_nbformat": 4,
  "vscode": {
   "interpreter": {
    "hash": "95f1ed8339fc15ac7f89ecef91cfc88a009aaf2bb1573f871691d038972c2dcc"
   }
  }
 },
 "nbformat": 4,
 "nbformat_minor": 2
}
