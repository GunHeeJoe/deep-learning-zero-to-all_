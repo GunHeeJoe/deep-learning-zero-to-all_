{
 "cells": [
  {
   "attachments": {},
   "cell_type": "markdown",
   "metadata": {},
   "source": [
    "# MNIST\n",
    "\n",
    "<데이터 표현>$\\\\$\n",
    "image 데이터는 28x28형태의 데이터로 표현된다 $\\\\$\n",
    "이를 pytorch에서는 X.view(-1,28*28) => 784개 데이터로 표현한다$\\\\$\n",
    "\n",
    "<딥러닝에서 사용되는 용어>$\\\\$\n",
    "-epoch : all the training데이터가 모두 한번 학습이 되었다$\\\\$\n",
    "-batch size : 60000개 데이터를 한번에 학습하기에는 무리이므로 짤라서 활용함. 이때 짜르는 크기기준=batch size$\\\\$\n",
    "즉 batch size=100이라면, 100개 데이터 단위로 쪼개니까 600개 batch가 생성됨$\\\\$\n",
    "-iteration :  batch를 몇번 학습에 사용되었나$\\\\$\n",
    "ex)training data=1000, batch size=500이면 batch는 2개존재함. 만약 1epoch를 돌았다면, 2iteration를 돈것임$\\\\$"
   ]
  },
  {
   "cell_type": "code",
   "execution_count": 16,
   "metadata": {},
   "outputs": [],
   "source": [
    "import torch\n",
    "\n",
    "#유명한 데이터셋들, 모델, transform(전처러)등 다양한 라이브러리 제공\n",
    "import torchvision.datasets as dsets\n",
    "import torchvision.transforms as transforms\n",
    "\n",
    "\n",
    "import matplotlib.pyplot as plt\n",
    "import random\n"
   ]
  },
  {
   "cell_type": "code",
   "execution_count": 17,
   "metadata": {},
   "outputs": [],
   "source": [
    "device = 'cuda' if torch.cuda.is_available() else 'cpu'\n",
    "\n",
    "# for reproducibility\n",
    "random.seed(777)\n",
    "torch.manual_seed(777)\n",
    "if device == 'cuda':\n",
    "    torch.cuda.manual_seed_all(777)"
   ]
  },
  {
   "cell_type": "code",
   "execution_count": 18,
   "metadata": {},
   "outputs": [],
   "source": [
    "# parameters\n",
    "training_epochs = 15\n",
    "batch_size = 100"
   ]
  },
  {
   "cell_type": "code",
   "execution_count": 19,
   "metadata": {},
   "outputs": [],
   "source": [
    "# MNIST dataset\n",
    "#root : 불러올 파일경로\n",
    "#train : true이면 train데이터를 false이면 test데이터를 불러옴\n",
    "#transform : 데이터변환형식 => 기존 image데이터는 High,Weight,Channel형식으로 0-255값을 가짐\n",
    "#pytorch방식으로 변환해줌 => C H W형식으로 0-1값을 가지게 변환\n",
    "#download : 다운로드 안되어있으면 다운\n",
    "mnist_train = dsets.MNIST(root='MNIST_data/',\n",
    "                          train=True,\n",
    "                          transform=transforms.ToTensor(),\n",
    "                          download=True)\n",
    "\n",
    "mnist_test = dsets.MNIST(root='MNIST_data/',\n",
    "                         train=False,\n",
    "                         transform=transforms.ToTensor(),\n",
    "                         download=True)"
   ]
  },
  {
   "cell_type": "code",
   "execution_count": 20,
   "metadata": {},
   "outputs": [],
   "source": [
    "# dataset loader\n",
    "#batch_size : 몇개씩 잘라서 데이터 불러올래\n",
    "#shuffle 있는 순서 or 무작위로 데이터 불러올래\n",
    "#drop_last : 맨 뒤에 남은 이상한 숫자가 있는 데이터들 처리를 제거할것인가\n",
    "data_loader = torch.utils.data.DataLoader(dataset=mnist_train,\n",
    "                                          batch_size=batch_size,\n",
    "                                          shuffle=True,\n",
    "                                          drop_last=True)"
   ]
  },
  {
   "cell_type": "code",
   "execution_count": 21,
   "metadata": {},
   "outputs": [
    {
     "data": {
      "text/plain": [
       "(Linear(in_features=784, out_features=10, bias=True),\n",
       " [Parameter containing:\n",
       "  tensor([[-2.9863e-02, -6.3304e-04, -6.9076e-03,  ..., -1.8779e-02,\n",
       "            3.0876e-02, -3.1737e-02],\n",
       "          [ 6.7273e-03,  2.0005e-02, -2.4505e-02,  ..., -2.7296e-02,\n",
       "           -3.8136e-03,  1.1463e-03],\n",
       "          [-1.7847e-02, -2.9822e-02,  7.4010e-05,  ..., -3.2111e-02,\n",
       "            2.6378e-02,  3.2280e-02],\n",
       "          ...,\n",
       "          [-1.3945e-02,  3.2514e-02,  2.6534e-03,  ..., -3.2780e-02,\n",
       "           -1.6748e-02, -5.4733e-03],\n",
       "          [ 1.0081e-02, -1.2429e-02, -1.0554e-02,  ..., -2.0057e-02,\n",
       "           -9.3248e-04,  8.3561e-03],\n",
       "          [-6.6728e-03,  7.1139e-03,  2.5636e-02,  ...,  1.9851e-02,\n",
       "           -1.8774e-02, -3.2610e-02]], requires_grad=True),\n",
       "  Parameter containing:\n",
       "  tensor([-0.0229, -0.0224,  0.0170, -0.0287, -0.0111,  0.0345,  0.0230,  0.0343,\n",
       "           0.0262, -0.0135], requires_grad=True)])"
      ]
     },
     "execution_count": 21,
     "metadata": {},
     "output_type": "execute_result"
    }
   ],
   "source": [
    "#28x28=784개의 데이터를 이용해서 10개의 분류를 예측함\n",
    "#10개의 분류는 0-9숫자를 의미함\n",
    "linear = torch.nn.Linear(784,10,bias=True).to(device)\n",
    "linear,list(linear.parameters())"
   ]
  },
  {
   "cell_type": "code",
   "execution_count": 22,
   "metadata": {},
   "outputs": [
    {
     "data": {
      "text/plain": [
       "CrossEntropyLoss()"
      ]
     },
     "execution_count": 22,
     "metadata": {},
     "output_type": "execute_result"
    }
   ],
   "source": [
    "#손실함수로 크로스 엔트로피를 이용\n",
    "#pytorch에서는 크로스 엔트로피 연산은 자동으로 softmax계산을 해주므로 따로 작성X\n",
    "criterion = torch.nn.CrossEntropyLoss().to(device)\n",
    "criterion"
   ]
  },
  {
   "cell_type": "code",
   "execution_count": 23,
   "metadata": {},
   "outputs": [
    {
     "data": {
      "text/plain": [
       "SGD (\n",
       "Parameter Group 0\n",
       "    dampening: 0\n",
       "    differentiable: False\n",
       "    foreach: None\n",
       "    lr: 0.1\n",
       "    maximize: False\n",
       "    momentum: 0\n",
       "    nesterov: False\n",
       "    weight_decay: 0\n",
       ")"
      ]
     },
     "execution_count": 23,
     "metadata": {},
     "output_type": "execute_result"
    }
   ],
   "source": [
    "optimizer = torch.optim.SGD(linear.parameters(), lr=0.1)\n",
    "optimizer"
   ]
  },
  {
   "cell_type": "code",
   "execution_count": 24,
   "metadata": {},
   "outputs": [
    {
     "name": "stdout",
     "output_type": "stream",
     "text": [
      "Epoch: 0001 cost = 0.535150588\n",
      "Epoch: 0002 cost = 0.359577715\n",
      "Epoch: 0003 cost = 0.331264257\n",
      "Epoch: 0004 cost = 0.316404670\n",
      "Epoch: 0005 cost = 0.307106972\n",
      "Epoch: 0006 cost = 0.300456554\n",
      "Epoch: 0007 cost = 0.294933408\n",
      "Epoch: 0008 cost = 0.290956169\n",
      "Epoch: 0009 cost = 0.287074119\n",
      "Epoch: 0010 cost = 0.284515619\n",
      "Epoch: 0011 cost = 0.281914055\n",
      "Epoch: 0012 cost = 0.279526889\n",
      "Epoch: 0013 cost = 0.277636588\n",
      "Epoch: 0014 cost = 0.275874794\n",
      "Epoch: 0015 cost = 0.274422735\n",
      "Learning finished\n"
     ]
    }
   ],
   "source": [
    "for epoch in range(training_epochs):\n",
    "    avg_cost = 0\n",
    "    total_batch = len(data_loader)\n",
    "\n",
    "    #X는 28x28개의 데이터\n",
    "    #y는 label데이터\n",
    "    for X, Y in data_loader:\n",
    "      \n",
    "        #28x28개 데이터를  784개 데이터로 표현\n",
    "        X = X.view(-1, 28 * 28).to(device)\n",
    "        Y = Y.to(device)\n",
    "\n",
    "        #주어진 모델로 X에 대한 분류값 예측\n",
    "        hypothesis = linear(X)\n",
    "\n",
    "        #예측값-실제값을 크로스엔트로피를 이용해서 손실함수 계산\n",
    "        cost = criterion(hypothesis, Y) \n",
    "\n",
    "        optimizer.zero_grad()\n",
    "        cost.backward()\n",
    "        optimizer.step()\n",
    "\n",
    "        avg_cost += cost / total_batch\n",
    "\n",
    "    print('Epoch:', '%04d' % (epoch + 1), 'cost =', '{:.9f}'.format(avg_cost))\n",
    "\n",
    "print('Learning finished')"
   ]
  },
  {
   "cell_type": "code",
   "execution_count": 25,
   "metadata": {},
   "outputs": [
    {
     "name": "stdout",
     "output_type": "stream",
     "text": [
      "Accuracy: 0.8883000016212463\n"
     ]
    }
   ],
   "source": [
    "#test데이터니까 gradient계산은 않마(성능평가)\n",
    "with torch.no_grad():\n",
    "    X_test = mnist_test.test_data.view(-1, 28 * 28).float().to(device)\n",
    "    Y_test = mnist_test.test_labels.to(device)\n",
    "\n",
    "    prediction = linear(X_test)\n",
    "    correct_prediction = torch.argmax(prediction, 1) == Y_test\n",
    "    accuracy = correct_prediction.float().mean()\n",
    "    print('Accuracy:', accuracy.item())"
   ]
  },
  {
   "cell_type": "code",
   "execution_count": 26,
   "metadata": {},
   "outputs": [
    {
     "name": "stdout",
     "output_type": "stream",
     "text": [
      "Label:  8\n",
      "Prediction:  3\n"
     ]
    },
    {
     "data": {
      "image/png": "[encoded data removed]",
      "text/plain": [
       "<Figure size 640x480 with 1 Axes>"
      ]
     },
     "metadata": {},
     "output_type": "display_data"
    }
   ],
   "source": [
    "# Get one and predict\n",
    "r = random.randint(0, len(mnist_test) - 1)\n",
    "X_single_data = mnist_test.test_data[r:r + 1].view(-1, 28 * 28).float().to(device)\n",
    "Y_single_data = mnist_test.test_labels[r:r + 1].to(device)\n",
    "\n",
    "print('Label: ', Y_single_data.item())\n",
    "single_prediction = linear(X_single_data)\n",
    "print('Prediction: ', torch.argmax(single_prediction, 1).item())\n",
    "\n",
    "plt.imshow(mnist_test.test_data[r:r + 1].view(28, 28), cmap='Greys', interpolation='nearest')\n",
    "plt.show()"
   ]
  },
  {
   "cell_type": "code",
   "execution_count": null,
   "metadata": {},
   "outputs": [],
   "source": []
  }
 ],
 "metadata": {
  "kernelspec": {
   "display_name": "Python 3",
   "language": "python",
   "name": "python3"
  },
  "language_info": {
   "codemirror_mode": {
    "name": "ipython",
    "version": 3
   },
   "file_extension": ".py",
   "mimetype": "text/x-python",
   "name": "python",
   "nbconvert_exporter": "python",
   "pygments_lexer": "ipython3",
   "version": "3.10.9 (tags/v3.10.9:1dd9be6, Dec  6 2022, 20:01:21) [MSC v.1934 64 bit (AMD64)]"
  },
  "orig_nbformat": 4,
  "vscode": {
   "interpreter": {
    "hash": "95f1ed8339fc15ac7f89ecef91cfc88a009aaf2bb1573f871691d038972c2dcc"
   }
  }
 },
 "nbformat": 4,
 "nbformat_minor": 2
}
